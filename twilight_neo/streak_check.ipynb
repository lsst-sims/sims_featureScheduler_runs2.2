{
 "cells": [
  {
   "cell_type": "code",
   "execution_count": 1,
   "id": "20c9bf3f",
   "metadata": {},
   "outputs": [],
   "source": [
    "import numpy as np\n",
    "import matplotlib.pylab as plt\n",
    "%matplotlib inline\n",
    "import pandas as pd\n",
    "import sqlite3"
   ]
  },
  {
   "cell_type": "code",
   "execution_count": 2,
   "id": "1a34b063",
   "metadata": {},
   "outputs": [],
   "source": [
    "data = np.load('twi_neo_repeat3_iz_np1_v2.2_10yrsslv2.npz')['obs_array'].copy()"
   ]
  },
  {
   "cell_type": "code",
   "execution_count": 3,
   "id": "d0ad81ee",
   "metadata": {},
   "outputs": [
    {
     "data": {
      "text/plain": [
       "array([(     0, 6.02132338, 2), (     1, 4.57570226, 2),\n",
       "       (     2, 1.32594471, 1), ..., (231822, 0.        , 0),\n",
       "       (231823, 0.        , 0), (231824, 0.        , 0)],\n",
       "      dtype=[('observationId', '<i8'), ('streak_len_deg', '<f8'), ('n_streaks', '<i8')])"
      ]
     },
     "execution_count": 3,
     "metadata": {},
     "output_type": "execute_result"
    }
   ],
   "source": [
    "data"
   ]
  },
  {
   "cell_type": "code",
   "execution_count": 4,
   "id": "b57dfe31",
   "metadata": {},
   "outputs": [],
   "source": [
    "con = sqlite3.connect('twi_neo_repeat3_iz_np1_v2.2_10yrs.db')\n",
    "orig = pd.read_sql('select * from observations where night < 366', con)"
   ]
  },
  {
   "cell_type": "code",
   "execution_count": 5,
   "id": "2237ba2d",
   "metadata": {},
   "outputs": [
    {
     "data": {
      "text/plain": [
       "(231907, 44)"
      ]
     },
     "execution_count": 5,
     "metadata": {},
     "output_type": "execute_result"
    }
   ],
   "source": [
    "orig.shape"
   ]
  },
  {
   "cell_type": "code",
   "execution_count": 6,
   "id": "ab868476",
   "metadata": {},
   "outputs": [
    {
     "data": {
      "text/plain": [
       "(117967,)"
      ]
     },
     "execution_count": 6,
     "metadata": {},
     "output_type": "execute_result"
    }
   ],
   "source": [
    "data.shape"
   ]
  },
  {
   "cell_type": "code",
   "execution_count": 7,
   "id": "63f30fad",
   "metadata": {},
   "outputs": [],
   "source": [
    "indx = np.in1d(orig['observationId'].values, data['observationId'])\n",
    "\n",
    "orig = orig.iloc[np.where(indx == True)[0]]\n",
    "\n"
   ]
  },
  {
   "cell_type": "code",
   "execution_count": 8,
   "id": "dd704756",
   "metadata": {},
   "outputs": [],
   "source": [
    "twi_indx = np.where(orig['visitExposureTime'] < 20)[0]\n",
    "reg_indx = np.where(orig['visitExposureTime'] >= 20)[0]"
   ]
  },
  {
   "cell_type": "code",
   "execution_count": 9,
   "id": "61f412dc",
   "metadata": {},
   "outputs": [
    {
     "data": {
      "text/plain": [
       "(35890,)"
      ]
     },
     "execution_count": 9,
     "metadata": {},
     "output_type": "execute_result"
    }
   ],
   "source": [
    "twi_indx.shape"
   ]
  },
  {
   "cell_type": "code",
   "execution_count": 10,
   "id": "37bc1049",
   "metadata": {},
   "outputs": [
    {
     "data": {
      "text/plain": [
       "1.2645168199566064"
      ]
     },
     "execution_count": 10,
     "metadata": {},
     "output_type": "execute_result"
    }
   ],
   "source": [
    "data['streak_len_deg'][twi_indx].mean()"
   ]
  },
  {
   "cell_type": "code",
   "execution_count": 11,
   "id": "38701cc5",
   "metadata": {},
   "outputs": [
    {
     "data": {
      "text/plain": [
       "0.33177383876696936"
      ]
     },
     "execution_count": 11,
     "metadata": {},
     "output_type": "execute_result"
    }
   ],
   "source": [
    "data['streak_len_deg'][reg_indx].mean()"
   ]
  },
  {
   "cell_type": "code",
   "execution_count": 12,
   "id": "c21e5c0f",
   "metadata": {},
   "outputs": [
    {
     "data": {
      "text/plain": [
       "(910452.1103687566, 0.03139490035754333)"
      ]
     },
     "execution_count": 12,
     "metadata": {},
     "output_type": "execute_result"
    }
   ],
   "source": [
    "pix_width = 40\n",
    "pix_lost = data['streak_len_deg'][twi_indx].mean() * 3600/.2 * pix_width\n",
    "pix_lost, pix_lost/2.9e9*100"
   ]
  },
  {
   "cell_type": "code",
   "execution_count": 13,
   "id": "f677ba9f",
   "metadata": {},
   "outputs": [
    {
     "data": {
      "text/plain": [
       "(238877.16391221792, 0.008237143583179929)"
      ]
     },
     "execution_count": 13,
     "metadata": {},
     "output_type": "execute_result"
    }
   ],
   "source": [
    "pix_lost = data['streak_len_deg'][reg_indx].mean() * 3600/.2 * pix_width\n",
    "pix_lost, pix_lost/2.9e9*100"
   ]
  },
  {
   "cell_type": "code",
   "execution_count": 14,
   "id": "c0e7cce2",
   "metadata": {},
   "outputs": [
    {
     "data": {
      "text/plain": [
       "(443195.53115327, 0.015282604522526552)"
      ]
     },
     "execution_count": 14,
     "metadata": {},
     "output_type": "execute_result"
    }
   ],
   "source": [
    "pix_lost = data['streak_len_deg'].mean() * 3600/.2 * pix_width\n",
    "pix_lost, pix_lost/2.9e9*100"
   ]
  },
  {
   "cell_type": "code",
   "execution_count": null,
   "id": "e238d382",
   "metadata": {},
   "outputs": [],
   "source": []
  }
 ],
 "metadata": {
  "kernelspec": {
   "display_name": "Python 3 (ipykernel)",
   "language": "python",
   "name": "python3"
  },
  "language_info": {
   "codemirror_mode": {
    "name": "ipython",
    "version": 3
   },
   "file_extension": ".py",
   "mimetype": "text/x-python",
   "name": "python",
   "nbconvert_exporter": "python",
   "pygments_lexer": "ipython3",
   "version": "3.8.13"
  }
 },
 "nbformat": 4,
 "nbformat_minor": 5
}
