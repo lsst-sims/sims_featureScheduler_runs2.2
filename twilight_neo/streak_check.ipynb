{
 "cells": [
  {
   "cell_type": "code",
   "execution_count": 13,
   "id": "20c9bf3f",
   "metadata": {},
   "outputs": [],
   "source": [
    "import numpy as np\n",
    "import matplotlib.pylab as plt\n",
    "%matplotlib inline\n",
    "import pandas as pd\n",
    "import sqlite3"
   ]
  },
  {
   "cell_type": "code",
   "execution_count": 7,
   "id": "1a34b063",
   "metadata": {},
   "outputs": [],
   "source": [
    "data = np.load('twi_neo_repeat3_iz_np1_v2.2_10yrs.npz')['obs_array'].copy()"
   ]
  },
  {
   "cell_type": "code",
   "execution_count": 8,
   "id": "d0ad81ee",
   "metadata": {},
   "outputs": [
    {
     "data": {
      "text/plain": [
       "array([(     0, 0., 0), (     1, 0., 0), (     2, 0., 0), ...,\n",
       "       (231822, 0., 0), (231823, 0., 0), (231824, 0., 0)],\n",
       "      dtype=[('observationId', '<i8'), ('streak_len_deg', '<f8'), ('n_streaks', '<i8')])"
      ]
     },
     "execution_count": 8,
     "metadata": {},
     "output_type": "execute_result"
    }
   ],
   "source": [
    "data"
   ]
  },
  {
   "cell_type": "code",
   "execution_count": 14,
   "id": "b57dfe31",
   "metadata": {},
   "outputs": [],
   "source": [
    "con = sqlite3.connect('twi_neo_repeat3_iz_np1_v2.2_10yrs.db')\n",
    "orig = pd.read_sql('select * from observations where night < 366', con)"
   ]
  },
  {
   "cell_type": "code",
   "execution_count": 15,
   "id": "2237ba2d",
   "metadata": {},
   "outputs": [
    {
     "data": {
      "text/plain": [
       "(231907, 44)"
      ]
     },
     "execution_count": 15,
     "metadata": {},
     "output_type": "execute_result"
    }
   ],
   "source": [
    "orig.shape"
   ]
  },
  {
   "cell_type": "code",
   "execution_count": 16,
   "id": "ab868476",
   "metadata": {},
   "outputs": [
    {
     "data": {
      "text/plain": [
       "(117967,)"
      ]
     },
     "execution_count": 16,
     "metadata": {},
     "output_type": "execute_result"
    }
   ],
   "source": [
    "data.shape"
   ]
  },
  {
   "cell_type": "code",
   "execution_count": 21,
   "id": "63f30fad",
   "metadata": {},
   "outputs": [],
   "source": [
    "indx = np.in1d(orig['observationId'].values, data['observationId'])\n",
    "\n",
    "orig = orig.iloc[np.where(indx == True)[0]]\n",
    "\n"
   ]
  },
  {
   "cell_type": "code",
   "execution_count": 29,
   "id": "dd704756",
   "metadata": {},
   "outputs": [],
   "source": [
    "twi_indx = np.where(orig['visitExposureTime'] < 20)[0]\n",
    "reg_indx = np.where(orig['visitExposureTime'] >= 20)[0]"
   ]
  },
  {
   "cell_type": "code",
   "execution_count": 27,
   "id": "61f412dc",
   "metadata": {},
   "outputs": [
    {
     "data": {
      "text/plain": [
       "(35890,)"
      ]
     },
     "execution_count": 27,
     "metadata": {},
     "output_type": "execute_result"
    }
   ],
   "source": [
    "twi_indx.shape"
   ]
  },
  {
   "cell_type": "code",
   "execution_count": 28,
   "id": "37bc1049",
   "metadata": {},
   "outputs": [
    {
     "data": {
      "text/plain": [
       "0.16708157184034966"
      ]
     },
     "execution_count": 28,
     "metadata": {},
     "output_type": "execute_result"
    }
   ],
   "source": [
    "data['streak_len_deg'][twi_indx].mean()"
   ]
  },
  {
   "cell_type": "code",
   "execution_count": 30,
   "id": "38701cc5",
   "metadata": {},
   "outputs": [
    {
     "data": {
      "text/plain": [
       "0.062048522195261024"
      ]
     },
     "execution_count": 30,
     "metadata": {},
     "output_type": "execute_result"
    }
   ],
   "source": [
    "data['streak_len_deg'][reg_indx].mean()"
   ]
  },
  {
   "cell_type": "code",
   "execution_count": 33,
   "id": "c21e5c0f",
   "metadata": {},
   "outputs": [
    {
     "data": {
      "text/plain": [
       "(120298.73172505177, 0.004148232128450061)"
      ]
     },
     "execution_count": 33,
     "metadata": {},
     "output_type": "execute_result"
    }
   ],
   "source": [
    "pix_width = 40\n",
    "pix_lost = data['streak_len_deg'][twi_indx].mean() * 3600/.2 * pix_width\n",
    "pix_lost, pix_lost/2.9e9*100"
   ]
  },
  {
   "cell_type": "code",
   "execution_count": 34,
   "id": "f677ba9f",
   "metadata": {},
   "outputs": [
    {
     "data": {
      "text/plain": [
       "(44674.935980587936, 0.001540515033813377)"
      ]
     },
     "execution_count": 34,
     "metadata": {},
     "output_type": "execute_result"
    }
   ],
   "source": [
    "pix_lost = data['streak_len_deg'][reg_indx].mean() * 3600/.2 * pix_width\n",
    "pix_lost, pix_lost/2.9e9*100"
   ]
  },
  {
   "cell_type": "code",
   "execution_count": null,
   "id": "c0e7cce2",
   "metadata": {},
   "outputs": [],
   "source": []
  }
 ],
 "metadata": {
  "kernelspec": {
   "display_name": "Python 3 (ipykernel)",
   "language": "python",
   "name": "python3"
  },
  "language_info": {
   "codemirror_mode": {
    "name": "ipython",
    "version": 3
   },
   "file_extension": ".py",
   "mimetype": "text/x-python",
   "name": "python",
   "nbconvert_exporter": "python",
   "pygments_lexer": "ipython3",
   "version": "3.10.5"
  }
 },
 "nbformat": 4,
 "nbformat_minor": 5
}
