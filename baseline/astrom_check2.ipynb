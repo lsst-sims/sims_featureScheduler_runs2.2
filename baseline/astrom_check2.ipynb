{
 "cells": [
  {
   "cell_type": "code",
   "execution_count": 29,
   "id": "f848fb03",
   "metadata": {},
   "outputs": [],
   "source": [
    "import numpy as np\n",
    "import healpy as hp\n",
    "import astropy.units as u\n",
    "import rubin_sim.maf.metrics as metrics\n",
    "import rubin_sim.maf.slicers as slicers\n",
    "import rubin_sim.maf.plots as plots\n",
    "import rubin_sim.maf.maps as maps\n",
    "import rubin_sim.maf.metricBundles as mb\n",
    "import rubin_sim.maf as maf\n",
    "import matplotlib.pylab as plt\n",
    "%matplotlib inline\n",
    "import copy\n",
    "import pandas as pd"
   ]
  },
  {
   "cell_type": "code",
   "execution_count": 8,
   "id": "1b62c4ca",
   "metadata": {},
   "outputs": [],
   "source": [
    "filename = 'baseline_v2.2_10yrs.db'\n",
    "runname = filename.replace('.db', '')"
   ]
  },
  {
   "cell_type": "code",
   "execution_count": null,
   "id": "fce4c35d",
   "metadata": {},
   "outputs": [],
   "source": []
  },
  {
   "cell_type": "code",
   "execution_count": 4,
   "id": "274d4f18",
   "metadata": {},
   "outputs": [
    {
     "name": "stdout",
     "output_type": "stream",
     "text": [
      "Healpix slicer using NSIDE=64, approximate resolution 54.967783 arcminutes\n"
     ]
    }
   ],
   "source": [
    "nside = 64\n",
    "healpixslicer = slicers.HealpixSlicer(nside=nside, useCache=True)\n",
    "parallaxStacker = maf.ParallaxFactorStacker()"
   ]
  },
  {
   "cell_type": "code",
   "execution_count": 9,
   "id": "74fcf08a",
   "metadata": {},
   "outputs": [],
   "source": [
    "summary1 = [\n",
    "        metrics.AreaSummaryMetric(\n",
    "            area=18000,\n",
    "            reduce_func=np.median,\n",
    "            decreasing=False,\n",
    "            metricName=\"Median Parallax Uncert (18k)\",\n",
    "        )]\n",
    "\n",
    "summary2 = [\n",
    "        metrics.AreaSummaryMetric(\n",
    "            area=18000,\n",
    "            reduce_func=np.median,\n",
    "            decreasing=False,\n",
    "            metricName=\"Median Proper Motion Uncert (18k)\",\n",
    "        )\n",
    "    ]\n",
    "\n",
    "bundleList = []\n",
    "rmags = np.arange(20, 25)\n",
    "sql = ''\n",
    "for rmag in rmags:\n",
    "    metric = metrics.ParallaxMetric(\n",
    "        metricName=\"Parallax Uncert @ %.1f\" % (rmag),\n",
    "        rmag=rmag,\n",
    "        normalize=False,\n",
    "    )\n",
    "    bundle = mb.MetricBundle(\n",
    "        metric,\n",
    "        healpixslicer,\n",
    "        sql,\n",
    "        stackerList=[parallaxStacker],\n",
    "        summaryMetrics=summary1,runName=runname\n",
    "    )\n",
    "    bundleList.append(bundle)\n",
    "    \n",
    "    metric = metrics.ProperMotionMetric(\n",
    "            metricName=\"Proper Motion Uncert @ %.1f\" % rmag,\n",
    "            rmag=rmag,\n",
    "            normalize=False,\n",
    "        )\n",
    "    bundle = mb.MetricBundle(\n",
    "        metric,\n",
    "        healpixslicer,\n",
    "        sql,\n",
    "        summaryMetrics=summary2,runName=runname\n",
    "    )\n",
    "    bundleList.append(bundle)\n",
    "\n"
   ]
  },
  {
   "cell_type": "code",
   "execution_count": 11,
   "id": "a9a1b659",
   "metadata": {},
   "outputs": [
    {
     "name": "stdout",
     "output_type": "stream",
     "text": [
      "Querying table None with no constraint for columns ['filter', 'fieldDec', 'rotSkyPos', 'observationStartMJD', 'fieldRA', 'seeingFwhmGeom', 'fiveSigmaDepth'].\n",
      "Found 2075598 visits\n",
      "Running:  ['baseline_v2_2_10yrs_Parallax_Uncert_@_20_0_HEAL', 'baseline_v2_2_10yrs_Proper_Motion_Uncert_@_20_0_HEAL', 'baseline_v2_2_10yrs_Parallax_Uncert_@_21_0_HEAL', 'baseline_v2_2_10yrs_Proper_Motion_Uncert_@_21_0_HEAL', 'baseline_v2_2_10yrs_Parallax_Uncert_@_22_0_HEAL', 'baseline_v2_2_10yrs_Proper_Motion_Uncert_@_22_0_HEAL', 'baseline_v2_2_10yrs_Parallax_Uncert_@_23_0_HEAL', 'baseline_v2_2_10yrs_Proper_Motion_Uncert_@_23_0_HEAL', 'baseline_v2_2_10yrs_Parallax_Uncert_@_24_0_HEAL', 'baseline_v2_2_10yrs_Proper_Motion_Uncert_@_24_0_HEAL']\n",
      "Completed metric generation.\n",
      "Running reduce methods.\n",
      "Running summary statistics.\n",
      "Completed.\n"
     ]
    }
   ],
   "source": [
    "bg = mb.MetricBundleGroup(bundleList, filename, outDir='temp')\n",
    "bg.runAll()\n"
   ]
  },
  {
   "cell_type": "code",
   "execution_count": 16,
   "id": "58c7d91b",
   "metadata": {},
   "outputs": [
    {
     "data": {
      "text/plain": [
       "{'Median Proper Motion Uncert (18k)': 0.16129913538773014}"
      ]
     },
     "execution_count": 16,
     "metadata": {},
     "output_type": "execute_result"
    }
   ],
   "source": [
    "bundleList[1].summaryValues"
   ]
  },
  {
   "cell_type": "code",
   "execution_count": 17,
   "id": "c3cba088",
   "metadata": {},
   "outputs": [],
   "source": [
    "parallax = [bl.summaryValues['Median Parallax Uncert (18k)'] for bl in bundleList[::2]]\n",
    "pm = [bl.summaryValues['Median Proper Motion Uncert (18k)'] for bl in bundleList[1::2]]"
   ]
  },
  {
   "cell_type": "code",
   "execution_count": 15,
   "id": "4ee490af",
   "metadata": {},
   "outputs": [
    {
     "data": {
      "text/plain": [
       "[0.6322382532981748,\n",
       " 0.9161860205639609,\n",
       " 1.6720379242380117,\n",
       " 3.6969474374975113,\n",
       " 9.003032944730576]"
      ]
     },
     "execution_count": 15,
     "metadata": {},
     "output_type": "execute_result"
    }
   ],
   "source": [
    "parallax"
   ]
  },
  {
   "cell_type": "code",
   "execution_count": 18,
   "id": "50ad730c",
   "metadata": {},
   "outputs": [
    {
     "data": {
      "text/plain": [
       "[0.16129913538773014,\n",
       " 0.2272416487567249,\n",
       " 0.40366407705654617,\n",
       " 0.8863057255898543,\n",
       " 2.156373356829648]"
      ]
     },
     "execution_count": 18,
     "metadata": {},
     "output_type": "execute_result"
    }
   ],
   "source": [
    "pm"
   ]
  },
  {
   "cell_type": "code",
   "execution_count": 26,
   "id": "f15a6d7e",
   "metadata": {},
   "outputs": [
    {
     "data": {
      "text/plain": [
       "Text(0, 0.5, 'Astrometric Precision (mas or mas/yr)')"
      ]
     },
     "execution_count": 26,
     "metadata": {},
     "output_type": "execute_result"
    },
    {
     "data": {
      "image/png": "[encoded data removed]",
      "text/plain": [
       "<Figure size 432x288 with 1 Axes>"
      ]
     },
     "metadata": {
      "needs_background": "light"
     },
     "output_type": "display_data"
    }
   ],
   "source": [
    "plt.plot(rmags, parallax, label='Parallax')\n",
    "plt.plot(rmags, pm, label='Proper Motion')\n",
    "leg = plt.legend()\n",
    "plt.xlabel('r mag')\n",
    "plt.ylabel('Astrometric Precision (mas or mas/yr)')"
   ]
  },
  {
   "cell_type": "code",
   "execution_count": 28,
   "id": "16d1417a",
   "metadata": {},
   "outputs": [
    {
     "data": {
      "text/plain": [
       "array([3.919663  , 4.03176982, 4.1421519 , 4.17118758, 4.17508077])"
      ]
     },
     "execution_count": 28,
     "metadata": {},
     "output_type": "execute_result"
    }
   ],
   "source": [
    "np.array(parallax)/np.array(pm)"
   ]
  },
  {
   "cell_type": "code",
   "execution_count": 31,
   "id": "24decf84",
   "metadata": {},
   "outputs": [
    {
     "data": {
      "text/html": [
       "<div>\n",
       "<style scoped>\n",
       "    .dataframe tbody tr th:only-of-type {\n",
       "        vertical-align: middle;\n",
       "    }\n",
       "\n",
       "    .dataframe tbody tr th {\n",
       "        vertical-align: top;\n",
       "    }\n",
       "\n",
       "    .dataframe thead th {\n",
       "        text-align: right;\n",
       "    }\n",
       "</style>\n",
       "<table border=\"1\" class=\"dataframe\">\n",
       "  <thead>\n",
       "    <tr style=\"text-align: right;\">\n",
       "      <th></th>\n",
       "      <th>rmag</th>\n",
       "      <th>Parallax</th>\n",
       "      <th>Proper Motion</th>\n",
       "    </tr>\n",
       "  </thead>\n",
       "  <tbody>\n",
       "    <tr>\n",
       "      <th>0</th>\n",
       "      <td>20</td>\n",
       "      <td>0.632238</td>\n",
       "      <td>0.161299</td>\n",
       "    </tr>\n",
       "    <tr>\n",
       "      <th>1</th>\n",
       "      <td>21</td>\n",
       "      <td>0.916186</td>\n",
       "      <td>0.227242</td>\n",
       "    </tr>\n",
       "    <tr>\n",
       "      <th>2</th>\n",
       "      <td>22</td>\n",
       "      <td>1.672038</td>\n",
       "      <td>0.403664</td>\n",
       "    </tr>\n",
       "    <tr>\n",
       "      <th>3</th>\n",
       "      <td>23</td>\n",
       "      <td>3.696947</td>\n",
       "      <td>0.886306</td>\n",
       "    </tr>\n",
       "    <tr>\n",
       "      <th>4</th>\n",
       "      <td>24</td>\n",
       "      <td>9.003033</td>\n",
       "      <td>2.156373</td>\n",
       "    </tr>\n",
       "  </tbody>\n",
       "</table>\n",
       "</div>"
      ],
      "text/plain": [
       "   rmag  Parallax  Proper Motion\n",
       "0    20  0.632238       0.161299\n",
       "1    21  0.916186       0.227242\n",
       "2    22  1.672038       0.403664\n",
       "3    23  3.696947       0.886306\n",
       "4    24  9.003033       2.156373"
      ]
     },
     "execution_count": 31,
     "metadata": {},
     "output_type": "execute_result"
    }
   ],
   "source": [
    "df = pd.DataFrame()\n",
    "df['rmag'] = rmags\n",
    "df['Parallax'] = parallax\n",
    "df['Proper Motion'] = pm\n",
    "df"
   ]
  },
  {
   "cell_type": "code",
   "execution_count": null,
   "id": "5f410399",
   "metadata": {},
   "outputs": [],
   "source": []
  }
 ],
 "metadata": {
  "kernelspec": {
   "display_name": "Python 3 (ipykernel)",
   "language": "python",
   "name": "python3"
  },
  "language_info": {
   "codemirror_mode": {
    "name": "ipython",
    "version": 3
   },
   "file_extension": ".py",
   "mimetype": "text/x-python",
   "name": "python",
   "nbconvert_exporter": "python",
   "pygments_lexer": "ipython3",
   "version": "3.8.13"
  }
 },
 "nbformat": 4,
 "nbformat_minor": 5
}
