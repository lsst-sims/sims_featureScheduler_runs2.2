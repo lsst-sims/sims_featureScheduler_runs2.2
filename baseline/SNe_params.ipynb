{
 "cells": [
  {
   "cell_type": "code",
   "execution_count": 1,
   "id": "207367fb",
   "metadata": {},
   "outputs": [],
   "source": [
    "import numpy as np\n",
    "import healpy as hp\n",
    "import rubin_sim.maf.metrics as metrics\n",
    "import rubin_sim.maf.slicers as slicers\n",
    "import rubin_sim.maf.plots as plots\n",
    "import rubin_sim.maf.maps as maps\n",
    "import rubin_sim.maf.metricBundles as mb\n",
    "import rubin_sim.maf as maf\n"
   ]
  },
  {
   "cell_type": "code",
   "execution_count": 2,
   "id": "5f5ea18b",
   "metadata": {},
   "outputs": [
    {
     "name": "stdout",
     "output_type": "stream",
     "text": [
      "Healpix slicer using NSIDE=16, approximate resolution 219.871130 arcminutes\n",
      "Loading  /Users/yoachim/rubin_sim_data/maf/SNe_data/LC_-2.0_0.2_380.0_800.0_ebvofMW_0.0_vstack.hdf5 g 20774 799 26\n"
     ]
    },
    {
     "name": "stderr",
     "output_type": "stream",
     "text": [
      "/Users/yoachim/anaconda3/envs/guro/lib/python3.8/site-packages/numpy/core/fromnumeric.py:758: UserWarning: Warning: 'partition' will ignore the 'mask' of the MaskedArray.\n",
      "  a.partition(kth, axis=axis, kind=kind, order=order)\n"
     ]
    },
    {
     "name": "stdout",
     "output_type": "stream",
     "text": [
      "Loading  /Users/yoachim/rubin_sim_data/maf/SNe_data/LC_-2.0_0.2_380.0_800.0_ebvofMW_0.0_vstack.hdf5 i 78302 799 98\n",
      "Loading  /Users/yoachim/rubin_sim_data/maf/SNe_data/LC_-2.0_0.2_380.0_800.0_ebvofMW_0.0_vstack.hdf5 r 50337 799 63\n",
      "Loading  /Users/yoachim/rubin_sim_data/maf/SNe_data/LC_-2.0_0.2_380.0_800.0_ebvofMW_0.0_vstack.hdf5 y 63121 799 79\n",
      "Loading  /Users/yoachim/rubin_sim_data/maf/SNe_data/LC_-2.0_0.2_380.0_800.0_ebvofMW_0.0_vstack.hdf5 z 73508 799 92\n",
      "Loading  /Users/yoachim/rubin_sim_data/maf/SNe_data/LC_0.0_0.0_380.0_800.0_ebvofMW_0.0_vstack.hdf5 g 20774 799 26\n"
     ]
    },
    {
     "name": "stderr",
     "output_type": "stream",
     "text": [
      "/Users/yoachim/anaconda3/envs/guro/lib/python3.8/site-packages/numpy/core/fromnumeric.py:758: UserWarning: Warning: 'partition' will ignore the 'mask' of the MaskedArray.\n",
      "  a.partition(kth, axis=axis, kind=kind, order=order)\n"
     ]
    },
    {
     "name": "stdout",
     "output_type": "stream",
     "text": [
      "Loading  /Users/yoachim/rubin_sim_data/maf/SNe_data/LC_0.0_0.0_380.0_800.0_ebvofMW_0.0_vstack.hdf5 i 78302 799 98\n",
      "Loading  /Users/yoachim/rubin_sim_data/maf/SNe_data/LC_0.0_0.0_380.0_800.0_ebvofMW_0.0_vstack.hdf5 r 50337 799 63\n",
      "Loading  /Users/yoachim/rubin_sim_data/maf/SNe_data/LC_0.0_0.0_380.0_800.0_ebvofMW_0.0_vstack.hdf5 y 78302 799 98\n",
      "Loading  /Users/yoachim/rubin_sim_data/maf/SNe_data/LC_0.0_0.0_380.0_800.0_ebvofMW_0.0_vstack.hdf5 z 88689 799 111\n"
     ]
    }
   ],
   "source": [
    "bundleList = []\n",
    "\n",
    "sne_nside = 16\n",
    "sn_summary = [\n",
    "    metrics.MedianMetric(),\n",
    "    metrics.MeanMetric(),\n",
    "    metrics.SumMetric(metricName=\"Total detected\"),\n",
    "    metrics.CountMetric(metricName=\"Total on sky\", maskVal=0),\n",
    "]\n",
    "slicer = slicers.HealpixSlicer(nside=sne_nside, useCache=False)\n",
    "metric = metrics.SNNSNMetric(verbose=False, metricName='SNe_default')  # zlim_coeff=0.98)\n",
    "bundle = mb.MetricBundle(\n",
    "    metric,\n",
    "    slicer,\n",
    "    \"note not like '%DD%'\",\n",
    "    summaryMetrics=sn_summary,\n",
    ")\n",
    "\n",
    "bundleList.append(bundle)\n",
    "\n",
    "\n",
    "metric = metrics.SNNSNMetric(verbose=False, metricName='SNe_params', n_bef=3, n_aft=8)  # zlim_coeff=0.98)\n",
    "bundle = mb.MetricBundle(\n",
    "    metric,\n",
    "    slicer,\n",
    "    \"\",\n",
    "    summaryMetrics=sn_summary,\n",
    ")\n",
    "\n",
    "bundleList.append(bundle)\n",
    "\n"
   ]
  },
  {
   "cell_type": "code",
   "execution_count": null,
   "id": "6f3a161b",
   "metadata": {},
   "outputs": [
    {
     "name": "stderr",
     "output_type": "stream",
     "text": [
      "/Users/yoachim/git_repos/rubin_sim/rubin_sim/maf/maps/dustMap.py:42: UserWarning: Slicer value of nside 16 different from map value 128, using slicer value\n",
      "  warnings.warn(\n",
      "/Users/yoachim/git_repos/rubin_sim/rubin_sim/maf/metrics/snNSNMetric.py:358: FutureWarning: Not prepending group keys to the result index of transform-like apply. In the future, the group keys will be included in the index, regardless of whether the applied function returns a like-indexed object.\n",
      "To preserve the previous behavior, use\n",
      "\n",
      "\t>>> .groupby(..., group_keys=False)\n",
      "\n",
      "To adopt the future behavior and silence this warning, use \n",
      "\n",
      "\t>>> .groupby(..., group_keys=True)\n",
      "  season_info.groupby(\"season\")\n",
      "/Users/yoachim/git_repos/rubin_sim/rubin_sim/maf/metrics/snNSNMetric.py:358: FutureWarning: Not prepending group keys to the result index of transform-like apply. In the future, the group keys will be included in the index, regardless of whether the applied function returns a like-indexed object.\n",
      "To preserve the previous behavior, use\n",
      "\n",
      "\t>>> .groupby(..., group_keys=False)\n",
      "\n",
      "To adopt the future behavior and silence this warning, use \n",
      "\n",
      "\t>>> .groupby(..., group_keys=True)\n",
      "  season_info.groupby(\"season\")\n",
      "/Users/yoachim/git_repos/rubin_sim/rubin_sim/maf/metrics/snNSNMetric.py:358: FutureWarning: Not prepending group keys to the result index of transform-like apply. In the future, the group keys will be included in the index, regardless of whether the applied function returns a like-indexed object.\n",
      "To preserve the previous behavior, use\n",
      "\n",
      "\t>>> .groupby(..., group_keys=False)\n",
      "\n",
      "To adopt the future behavior and silence this warning, use \n",
      "\n",
      "\t>>> .groupby(..., group_keys=True)\n",
      "  season_info.groupby(\"season\")\n",
      "/Users/yoachim/git_repos/rubin_sim/rubin_sim/maf/metrics/snNSNMetric.py:358: FutureWarning: Not prepending group keys to the result index of transform-like apply. In the future, the group keys will be included in the index, regardless of whether the applied function returns a like-indexed object.\n",
      "To preserve the previous behavior, use\n",
      "\n",
      "\t>>> .groupby(..., group_keys=False)\n",
      "\n",
      "To adopt the future behavior and silence this warning, use \n",
      "\n",
      "\t>>> .groupby(..., group_keys=True)\n",
      "  season_info.groupby(\"season\")\n",
      "/Users/yoachim/git_repos/rubin_sim/rubin_sim/maf/metrics/snNSNMetric.py:358: FutureWarning: Not prepending group keys to the result index of transform-like apply. In the future, the group keys will be included in the index, regardless of whether the applied function returns a like-indexed object.\n",
      "To preserve the previous behavior, use\n",
      "\n",
      "\t>>> .groupby(..., group_keys=False)\n",
      "\n",
      "To adopt the future behavior and silence this warning, use \n",
      "\n",
      "\t>>> .groupby(..., group_keys=True)\n",
      "  season_info.groupby(\"season\")\n",
      "/Users/yoachim/git_repos/rubin_sim/rubin_sim/maf/metrics/snNSNMetric.py:358: FutureWarning: Not prepending group keys to the result index of transform-like apply. In the future, the group keys will be included in the index, regardless of whether the applied function returns a like-indexed object.\n",
      "To preserve the previous behavior, use\n",
      "\n",
      "\t>>> .groupby(..., group_keys=False)\n",
      "\n",
      "To adopt the future behavior and silence this warning, use \n",
      "\n",
      "\t>>> .groupby(..., group_keys=True)\n",
      "  season_info.groupby(\"season\")\n",
      "/Users/yoachim/git_repos/rubin_sim/rubin_sim/maf/metrics/snNSNMetric.py:358: FutureWarning: Not prepending group keys to the result index of transform-like apply. In the future, the group keys will be included in the index, regardless of whether the applied function returns a like-indexed object.\n",
      "To preserve the previous behavior, use\n",
      "\n",
      "\t>>> .groupby(..., group_keys=False)\n",
      "\n",
      "To adopt the future behavior and silence this warning, use \n",
      "\n",
      "\t>>> .groupby(..., group_keys=True)\n",
      "  season_info.groupby(\"season\")\n",
      "/Users/yoachim/git_repos/rubin_sim/rubin_sim/maf/metrics/snNSNMetric.py:358: FutureWarning: Not prepending group keys to the result index of transform-like apply. In the future, the group keys will be included in the index, regardless of whether the applied function returns a like-indexed object.\n",
      "To preserve the previous behavior, use\n",
      "\n",
      "\t>>> .groupby(..., group_keys=False)\n",
      "\n",
      "To adopt the future behavior and silence this warning, use \n",
      "\n",
      "\t>>> .groupby(..., group_keys=True)\n",
      "  season_info.groupby(\"season\")\n",
      "/Users/yoachim/git_repos/rubin_sim/rubin_sim/maf/metrics/snNSNMetric.py:358: FutureWarning: Not prepending group keys to the result index of transform-like apply. In the future, the group keys will be included in the index, regardless of whether the applied function returns a like-indexed object.\n",
      "To preserve the previous behavior, use\n",
      "\n",
      "\t>>> .groupby(..., group_keys=False)\n",
      "\n",
      "To adopt the future behavior and silence this warning, use \n",
      "\n",
      "\t>>> .groupby(..., group_keys=True)\n",
      "  season_info.groupby(\"season\")\n",
      "/Users/yoachim/git_repos/rubin_sim/rubin_sim/maf/metrics/snNSNMetric.py:358: FutureWarning: Not prepending group keys to the result index of transform-like apply. In the future, the group keys will be included in the index, regardless of whether the applied function returns a like-indexed object.\n",
      "To preserve the previous behavior, use\n",
      "\n",
      "\t>>> .groupby(..., group_keys=False)\n",
      "\n",
      "To adopt the future behavior and silence this warning, use \n",
      "\n",
      "\t>>> .groupby(..., group_keys=True)\n",
      "  season_info.groupby(\"season\")\n",
      "/Users/yoachim/git_repos/rubin_sim/rubin_sim/maf/metrics/snNSNMetric.py:358: FutureWarning: Not prepending group keys to the result index of transform-like apply. In the future, the group keys will be included in the index, regardless of whether the applied function returns a like-indexed object.\n",
      "To preserve the previous behavior, use\n",
      "\n",
      "\t>>> .groupby(..., group_keys=False)\n",
      "\n",
      "To adopt the future behavior and silence this warning, use \n",
      "\n",
      "\t>>> .groupby(..., group_keys=True)\n",
      "  season_info.groupby(\"season\")\n",
      "/Users/yoachim/git_repos/rubin_sim/rubin_sim/maf/metrics/snNSNMetric.py:358: FutureWarning: Not prepending group keys to the result index of transform-like apply. In the future, the group keys will be included in the index, regardless of whether the applied function returns a like-indexed object.\n",
      "To preserve the previous behavior, use\n",
      "\n",
      "\t>>> .groupby(..., group_keys=False)\n",
      "\n",
      "To adopt the future behavior and silence this warning, use \n",
      "\n",
      "\t>>> .groupby(..., group_keys=True)\n",
      "  season_info.groupby(\"season\")\n",
      "/Users/yoachim/git_repos/rubin_sim/rubin_sim/maf/metrics/snNSNMetric.py:358: FutureWarning: Not prepending group keys to the result index of transform-like apply. In the future, the group keys will be included in the index, regardless of whether the applied function returns a like-indexed object.\n",
      "To preserve the previous behavior, use\n",
      "\n",
      "\t>>> .groupby(..., group_keys=False)\n",
      "\n",
      "To adopt the future behavior and silence this warning, use \n",
      "\n",
      "\t>>> .groupby(..., group_keys=True)\n",
      "  season_info.groupby(\"season\")\n"
     ]
    }
   ],
   "source": [
    "outDir='temp'\n",
    "resultsDb = maf.db.ResultsDb(outDir=outDir)\n",
    "\n",
    "bg = maf.metricBundles.MetricBundleGroup(bundleList, 'baseline_v2.2_10yrs.db', outDir=outDir, resultsDb=resultsDb)\n",
    "bg.runAll()\n",
    "bg.plotAll(closefigs=False)\n"
   ]
  },
  {
   "cell_type": "code",
   "execution_count": 8,
   "id": "92f56080",
   "metadata": {},
   "outputs": [
    {
     "data": {
      "text/plain": [
       "{'opsim_SNe_default_HEAL': <rubin_sim.maf.metricBundles.metricBundle.MetricBundle at 0x7fc4820b2d00>,\n",
       " 'opsim_SNe_params_HEAL': <rubin_sim.maf.metricBundles.metricBundle.MetricBundle at 0x7fc48207b220>,\n",
       " 'SNe_default_nSN': <rubin_sim.maf.metricBundles.metricBundle.MetricBundle at 0x7fc44e093b20>,\n",
       " 'SNe_default_zlim': <rubin_sim.maf.metricBundles.metricBundle.MetricBundle at 0x7fc42fc286d0>,\n",
       " 'SNe_params_nSN': <rubin_sim.maf.metricBundles.metricBundle.MetricBundle at 0x7fc42fc4c0d0>,\n",
       " 'SNe_params_zlim': <rubin_sim.maf.metricBundles.metricBundle.MetricBundle at 0x7fc42fc4c400>}"
      ]
     },
     "execution_count": 8,
     "metadata": {},
     "output_type": "execute_result"
    }
   ],
   "source": [
    "bg.bundleDict"
   ]
  },
  {
   "cell_type": "code",
   "execution_count": 9,
   "id": "3fc2cb7b",
   "metadata": {},
   "outputs": [
    {
     "name": "stdout",
     "output_type": "stream",
     "text": [
      "opsim_SNe_default_HEAL {}\n",
      "opsim_SNe_params_HEAL {}\n",
      "SNe_default_nSN {'Median': 16.335, 'Mean': 16.382548638132295, 'Total detected': 25261.89, 'Total on sky': 3072}\n",
      "SNe_default_zlim {'Median': 0.2, 'Mean': 0.20733787289234762, 'Total detected': 319.71500000000003, 'Total on sky': 3072}\n",
      "SNe_params_nSN {'Median': 19.997999999999998, 'Mean': 18.921005172413793, 'Total detected': 32922.549, 'Total on sky': 3072}\n",
      "SNe_params_zlim {'Median': 0.2, 'Mean': 0.1967931034482759, 'Total detected': 342.4200000000001, 'Total on sky': 3072}\n"
     ]
    }
   ],
   "source": [
    "for key in bg.bundleDict:\n",
    "    print(key, bg.bundleDict[key].summaryValues)"
   ]
  },
  {
   "cell_type": "code",
   "execution_count": null,
   "id": "5de3b7f3",
   "metadata": {},
   "outputs": [],
   "source": []
  }
 ],
 "metadata": {
  "kernelspec": {
   "display_name": "Python 3 (ipykernel)",
   "language": "python",
   "name": "python3"
  },
  "language_info": {
   "codemirror_mode": {
    "name": "ipython",
    "version": 3
   },
   "file_extension": ".py",
   "mimetype": "text/x-python",
   "name": "python",
   "nbconvert_exporter": "python",
   "pygments_lexer": "ipython3",
   "version": "3.8.13"
  }
 },
 "nbformat": 4,
 "nbformat_minor": 5
}
