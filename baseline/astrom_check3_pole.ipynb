{
 "cells": [
  {
   "cell_type": "code",
   "execution_count": 1,
   "id": "7d607367",
   "metadata": {},
   "outputs": [],
   "source": [
    "import numpy as np\n",
    "import healpy as hp\n",
    "import astropy.units as u\n",
    "import rubin_sim.maf.metrics as metrics\n",
    "import rubin_sim.maf.slicers as slicers\n",
    "import rubin_sim.maf.plots as plots\n",
    "import rubin_sim.maf.maps as maps\n",
    "import rubin_sim.maf.metricBundles as mb\n",
    "import rubin_sim.maf as maf\n",
    "import matplotlib.pylab as plt\n",
    "%matplotlib inline\n",
    "import copy\n",
    "import pandas as pd\n",
    "from rubin_sim.maf.utils import m52snr, astrom_precision"
   ]
  },
  {
   "cell_type": "code",
   "execution_count": 2,
   "id": "a3373601",
   "metadata": {},
   "outputs": [],
   "source": [
    "filename = 'baseline_v2.2_10yrs.db'\n",
    "runname = filename.replace('.db', '')"
   ]
  },
  {
   "cell_type": "code",
   "execution_count": 3,
   "id": "152b3038",
   "metadata": {},
   "outputs": [],
   "source": [
    "bl = []\n",
    "sql = ''\n",
    "metric=metrics.PassMetric(cols=['observationStartMJD', 'fiveSigmaDepth',\n",
    "                                'filter', 'seeingFwhmGeom', 'skyBrightness',\n",
    "                               'airmass'])\n",
    "slicer = slicers.UserPointsSlicer(0, -65)\n",
    "\n",
    "bl.append(mb.MetricBundle(metric, slicer, sql))\n",
    "\n"
   ]
  },
  {
   "cell_type": "code",
   "execution_count": 4,
   "id": "a1536819",
   "metadata": {},
   "outputs": [],
   "source": [
    "nside = 64\n",
    "parallaxStacker = maf.ParallaxFactorStacker()\n",
    "\n",
    "summary1 = []\n",
    "\n",
    "summary2 = []\n",
    "\n",
    "rmags = [20]\n",
    "sql = ''\n",
    "for rmag in rmags:\n",
    "    metric = metrics.ParallaxMetric(\n",
    "        metricName=\"Parallax Uncert @ %.1f\" % (rmag),\n",
    "        rmag=rmag,\n",
    "        normalize=False,\n",
    "    )\n",
    "    bundle = mb.MetricBundle(\n",
    "        metric,\n",
    "        slicer,\n",
    "        sql,\n",
    "        stackerList=[parallaxStacker],\n",
    "        summaryMetrics=summary1,runName=runname\n",
    "    )\n",
    "    bl.append(bundle)\n",
    "    \n",
    "    metric = metrics.ProperMotionMetric(\n",
    "            metricName=\"Proper Motion Uncert @ %.1f\" % rmag,\n",
    "            rmag=rmag,\n",
    "            normalize=False,\n",
    "        )\n",
    "    bundle = mb.MetricBundle(\n",
    "        metric,\n",
    "        slicer,\n",
    "        sql,\n",
    "        summaryMetrics=summary2,runName=runname\n",
    "    )\n",
    "    bl.append(bundle)\n"
   ]
  },
  {
   "cell_type": "code",
   "execution_count": 5,
   "id": "d7ca9726",
   "metadata": {},
   "outputs": [
    {
     "name": "stdout",
     "output_type": "stream",
     "text": [
      "Querying table None with no constraint for columns ['seeingFwhmGeom', 'rotSkyPos', 'observationStartMJD', 'fiveSigmaDepth', 'airmass', 'skyBrightness', 'fieldDec', 'fieldRA', 'filter'].\n",
      "Found 2075598 visits\n",
      "Running:  ['opsim_Pass_observationStartMJD_fiveSigmaDepth_filter_seeingFwhmGeom_skyBrightness_airmass_USER', 'baseline_v2_2_10yrs_Parallax_Uncert_@_20_0_USER', 'baseline_v2_2_10yrs_Proper_Motion_Uncert_@_20_0_USER']\n",
      "Completed metric generation.\n",
      "Running reduce methods.\n",
      "Running summary statistics.\n",
      "Completed.\n"
     ]
    }
   ],
   "source": [
    "bg = mb.MetricBundleGroup(bl, filename, outDir='temp')\n",
    "bg.runAll()\n"
   ]
  },
  {
   "cell_type": "code",
   "execution_count": 6,
   "id": "935a105a",
   "metadata": {},
   "outputs": [],
   "source": [
    "data = bl[0].metricValues[0]"
   ]
  },
  {
   "cell_type": "code",
   "execution_count": null,
   "id": "45ef5c22",
   "metadata": {},
   "outputs": [],
   "source": []
  },
  {
   "cell_type": "code",
   "execution_count": 7,
   "id": "eb285eee",
   "metadata": {},
   "outputs": [
    {
     "data": {
      "text/plain": [
       "Text(0, 0.5, 'N obs')"
      ]
     },
     "execution_count": 7,
     "metadata": {},
     "output_type": "execute_result"
    },
    {
     "data": {
      "image/png": "[encoded data removed]",
      "text/plain": [
       "<Figure size 432x288 with 1 Axes>"
      ]
     },
     "metadata": {
      "needs_background": "light"
     },
     "output_type": "display_data"
    }
   ],
   "source": [
    "hist = plt.hist(data['observationStartMJD'] % 365.258)\n",
    "plt.xlabel('Time mod 365.25 (days)')\n",
    "plt.ylabel('N obs')"
   ]
  },
  {
   "cell_type": "code",
   "execution_count": 8,
   "id": "26bec9e1",
   "metadata": {},
   "outputs": [
    {
     "data": {
      "text/plain": [
       "Text(0.5, 0, 'Seeing FWHM Geom (arcsec)')"
      ]
     },
     "execution_count": 8,
     "metadata": {},
     "output_type": "execute_result"
    },
    {
     "data": {
      "image/png": "[encoded data removed]",
      "text/plain": [
       "<Figure size 432x288 with 1 Axes>"
      ]
     },
     "metadata": {
      "needs_background": "light"
     },
     "output_type": "display_data"
    }
   ],
   "source": [
    "f2c = {'u': 'purple', 'g': 'blue', 'r': 'green',\n",
    "           'i': 'cyan', 'z': 'orange', 'y': 'red'}\n",
    "\n",
    "bins = np.arange(0,4, .1)\n",
    "\n",
    "for filtername in np.unique(data['filter']):\n",
    "    infilt = np.where(data['filter'] == filtername)[0]\n",
    "    _tmp = plt.hist(data['seeingFwhmGeom'][infilt], color=f2c[filtername], alpha=.5)\n",
    "plt.xlabel('Seeing FWHM Geom (arcsec)')\n"
   ]
  },
  {
   "cell_type": "code",
   "execution_count": 9,
   "id": "4f7f4284",
   "metadata": {},
   "outputs": [
    {
     "data": {
      "image/png": "[encoded data removed]",
      "text/plain": [
       "<Figure size 432x288 with 1 Axes>"
      ]
     },
     "metadata": {
      "needs_background": "light"
     },
     "output_type": "display_data"
    }
   ],
   "source": [
    "bins = np.arange(17,23, .2)\n",
    "for filtername in np.unique(data['filter']):\n",
    "    infilt = np.where(data['filter'] == filtername)[0]\n",
    "    _tmp = plt.hist(data['skyBrightness'][infilt], color=f2c[filtername], alpha=.5, bins=bins, label=filtername)\n",
    "plt.xlabel('Sky Brightness (mag/sq arcsec)')\n",
    "leg = plt.legend()"
   ]
  },
  {
   "cell_type": "code",
   "execution_count": 10,
   "id": "35904b6f",
   "metadata": {},
   "outputs": [
    {
     "data": {
      "text/plain": [
       "Text(0.5, 0, 'airmass')"
      ]
     },
     "execution_count": 10,
     "metadata": {},
     "output_type": "execute_result"
    },
    {
     "data": {
      "image/png": "[encoded data removed]",
      "text/plain": [
       "<Figure size 432x288 with 1 Axes>"
      ]
     },
     "metadata": {
      "needs_background": "light"
     },
     "output_type": "display_data"
    }
   ],
   "source": [
    "bins = np.arange(.7,3,.1)\n",
    "for filtername in np.unique(data['filter']):\n",
    "    infilt = np.where(data['filter'] == filtername)[0]\n",
    "    _tmp = plt.hist(data['airmass'][infilt], color=f2c[filtername], alpha=.5, bins=bins)\n",
    "plt.xlabel('airmass')\n"
   ]
  },
  {
   "cell_type": "code",
   "execution_count": 11,
   "id": "5de8abdd",
   "metadata": {},
   "outputs": [
    {
     "data": {
      "text/plain": [
       "Text(0.5, 0, '5-sigma depth')"
      ]
     },
     "execution_count": 11,
     "metadata": {},
     "output_type": "execute_result"
    },
    {
     "data": {
      "image/png": "[encoded data removed]",
      "text/plain": [
       "<Figure size 432x288 with 1 Axes>"
      ]
     },
     "metadata": {
      "needs_background": "light"
     },
     "output_type": "display_data"
    }
   ],
   "source": [
    "bins = np.arange(20,25,.2)\n",
    "for filtername in np.unique(data['filter']):\n",
    "    infilt = np.where(data['filter'] == filtername)[0]\n",
    "    _tmp = plt.hist(data['fiveSigmaDepth'][infilt], color=f2c[filtername], alpha=.5, bins=None)\n",
    "plt.xlabel('5-sigma depth')\n"
   ]
  },
  {
   "cell_type": "code",
   "execution_count": 12,
   "id": "7a624acc",
   "metadata": {},
   "outputs": [
    {
     "data": {
      "text/plain": [
       "Text(0.5, 0, 'SNR')"
      ]
     },
     "execution_count": 12,
     "metadata": {},
     "output_type": "execute_result"
    },
    {
     "data": {
      "image/png": "[encoded data removed]",
      "text/plain": [
       "<Figure size 432x288 with 1 Axes>"
      ]
     },
     "metadata": {
      "needs_background": "light"
     },
     "output_type": "display_data"
    }
   ],
   "source": [
    "mag = 20  # Assuming a flat SED, mag=20 in all filters\n",
    "snr = m52snr(mag, data['fiveSigmaDepth'])\n",
    "bins = np.arange(0,500,1)\n",
    "for filtername in np.unique(data['filter']):\n",
    "    infilt = np.where(data['filter'] == filtername)[0]\n",
    "    _tmp = plt.hist(snr[infilt], color=f2c[filtername], alpha=.5, bins=bins)\n",
    "plt.xlabel('SNR')\n"
   ]
  },
  {
   "cell_type": "code",
   "execution_count": 13,
   "id": "0921d2e7",
   "metadata": {},
   "outputs": [
    {
     "data": {
      "text/plain": [
       "Text(0.5, 0, 'Centroid precision (mas)')"
      ]
     },
     "execution_count": 13,
     "metadata": {},
     "output_type": "execute_result"
    },
    {
     "data": {
      "image/png": "[encoded data removed]",
      "text/plain": [
       "<Figure size 432x288 with 1 Axes>"
      ]
     },
     "metadata": {
      "needs_background": "light"
     },
     "output_type": "display_data"
    }
   ],
   "source": [
    "bins = np.arange(0,100, 1)\n",
    "prec = astrom_precision(data['seeingFwhmGeom'], snr)\n",
    "# Note, this is just FWHM/SNR. Which almost certainly scales right, but seems like there might\n",
    "# be factors of 2 or pi that got dropped from that. Or maybe a sqrt somewhere.\n",
    "\n",
    "for filtername in np.unique(data['filter']):\n",
    "    infilt = np.where(data['filter'] == filtername)[0]\n",
    "    _tmp = plt.hist(prec[infilt]*1000, color=f2c[filtername], alpha=.5, bins=bins)\n",
    "plt.xlabel('Centroid precision (mas)')\n"
   ]
  },
  {
   "cell_type": "code",
   "execution_count": 14,
   "id": "e4c849cd",
   "metadata": {},
   "outputs": [
    {
     "name": "stdout",
     "output_type": "stream",
     "text": [
      "64 in g\n",
      "188 in i\n",
      "181 in r\n",
      "49 in u\n",
      "176 in y\n",
      "166 in z\n",
      "824  in all\n"
     ]
    }
   ],
   "source": [
    "for filtername in np.unique(data['filter']):\n",
    "    infilt = np.where(data['filter'] == filtername)[0]\n",
    "    print('%i in %s' % (np.size(infilt), filtername))\n",
    "print(data.size, ' in all')"
   ]
  },
  {
   "cell_type": "code",
   "execution_count": 15,
   "id": "469bf779",
   "metadata": {},
   "outputs": [
    {
     "name": "stdout",
     "output_type": "stream",
     "text": [
      "parallax precision metric = 0.545545 mas, pm precision metric = 0.175266 mas/yr\n"
     ]
    }
   ],
   "source": [
    "print('parallax precision metric = %f mas, pm precision metric = %f mas/yr' % (bl[1].metricValues.data, bl[2].metricValues.data))"
   ]
  },
  {
   "cell_type": "code",
   "execution_count": null,
   "id": "f693f85d",
   "metadata": {},
   "outputs": [],
   "source": []
  },
  {
   "cell_type": "code",
   "execution_count": null,
   "id": "13fa281f",
   "metadata": {},
   "outputs": [],
   "source": []
  }
 ],
 "metadata": {
  "kernelspec": {
   "display_name": "Python 3 (ipykernel)",
   "language": "python",
   "name": "python3"
  },
  "language_info": {
   "codemirror_mode": {
    "name": "ipython",
    "version": 3
   },
   "file_extension": ".py",
   "mimetype": "text/x-python",
   "name": "python",
   "nbconvert_exporter": "python",
   "pygments_lexer": "ipython3",
   "version": "3.8.13"
  }
 },
 "nbformat": 4,
 "nbformat_minor": 5
}
