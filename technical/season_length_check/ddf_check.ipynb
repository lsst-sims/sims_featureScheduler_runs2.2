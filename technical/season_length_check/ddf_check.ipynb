{
 "cells": [
  {
   "cell_type": "code",
   "execution_count": 1,
   "id": "2a18077f",
   "metadata": {},
   "outputs": [],
   "source": [
    "import numpy as np\n",
    "import matplotlib.pylab as plt\n",
    "%matplotlib inline\n",
    "import pandas as pd\n",
    "import sqlite3\n",
    "from make_ddf_survey import generate_ddf_scheduled_obs"
   ]
  },
  {
   "cell_type": "code",
   "execution_count": 2,
   "id": "1bc009ca",
   "metadata": {},
   "outputs": [],
   "source": [
    "con = sqlite3.connect('season_length_check_seasonfrac0.1_v2.2_10yrs.db')\n",
    "sql = 'select observationStartMJD as mjd from observations where note like \"%DD%\" and filter=\"i\";'\n",
    "obs1 = pd.read_sql(sql, con)\n",
    "con.close()\n",
    "\n",
    "con = sqlite3.connect('season_length_check_seasonfrac0.3_v2.2_10yrs.db')\n",
    "obs2 = pd.read_sql(sql, con)\n",
    "con.close()\n"
   ]
  },
  {
   "cell_type": "code",
   "execution_count": 3,
   "id": "cf971b69",
   "metadata": {},
   "outputs": [],
   "source": [
    "cum1 = np.arange(obs1['mjd'].size)\n",
    "cum2 = np.arange(obs2['mjd'].size)\n"
   ]
  },
  {
   "cell_type": "code",
   "execution_count": 4,
   "id": "08d89bbd",
   "metadata": {},
   "outputs": [
    {
     "data": {
      "text/plain": [
       "Text(0, 0.5, 'N obs')"
      ]
     },
     "execution_count": 4,
     "metadata": {},
     "output_type": "execute_result"
    },
    {
     "data": {
      "image/png": "[encoded data removed]",
      "text/plain": [
       "<Figure size 432x288 with 1 Axes>"
      ]
     },
     "metadata": {
      "needs_background": "light"
     },
     "output_type": "display_data"
    }
   ],
   "source": [
    "plt.plot(obs1['mjd'], cum1)\n",
    "plt.plot(obs2['mjd'], cum2)\n",
    "plt.title('Resulting simulation')\n",
    "plt.xlabel('MJD')\n",
    "plt.ylabel('N obs')"
   ]
  },
  {
   "cell_type": "code",
   "execution_count": 5,
   "id": "ab63df72",
   "metadata": {},
   "outputs": [
    {
     "name": "stdout",
     "output_type": "stream",
     "text": [
      "Optimizing XMM_LSS\n",
      "Optimizing XMM_LSS\n"
     ]
    }
   ],
   "source": [
    "# Let's see what we tried to generate. Do they match\n",
    "gen1 = generate_ddf_scheduled_obs(season_frac=0.1)\n",
    "gen2 = generate_ddf_scheduled_obs(season_frac=0.3)"
   ]
  },
  {
   "cell_type": "code",
   "execution_count": 6,
   "id": "bfb3b279",
   "metadata": {},
   "outputs": [
    {
     "data": {
      "text/plain": [
       "Text(0, 0.5, 'N obs')"
      ]
     },
     "execution_count": 6,
     "metadata": {},
     "output_type": "execute_result"
    },
    {
     "data": {
      "image/png": "[encoded data removed]",
      "text/plain": [
       "<Figure size 432x288 with 1 Axes>"
      ]
     },
     "metadata": {
      "needs_background": "light"
     },
     "output_type": "display_data"
    }
   ],
   "source": [
    "good = np.where(gen1['filter'] == \"i\")[0]\n",
    "plt.plot(gen1['mjd'][good], np.arange(gen1[good].size))\n",
    "\n",
    "good = np.where(gen2['filter'] == \"i\")[0]\n",
    "\n",
    "plt.plot(gen2['mjd'][good], np.arange(gen2[good].size))\n",
    "plt.title('scheduled obs')\n",
    "plt.xlabel('MJD')\n",
    "plt.ylabel('N obs')"
   ]
  },
  {
   "cell_type": "code",
   "execution_count": 7,
   "id": "60c7c3bf",
   "metadata": {},
   "outputs": [
    {
     "data": {
      "text/plain": [
       "array([(0, 0.62322798, -0.08290314, 60224.25      , 60226.25      , 30., 'u', 0., 0., 0., 0., 1, 'DD:XMM_LSS', 0.01041667, 0.05235988, 0.43633231, 1.48352986, 3., 21., False,     0),\n",
       "       (0, 0.62322798, -0.08290314, 60224.25      , 60226.25      , 30., 'u', 0., 0., 0., 0., 1, 'DD:XMM_LSS', 0.01041667, 0.05235988, 0.43633231, 1.48352986, 3., 21., False,     1),\n",
       "       (0, 0.62322798, -0.08290314, 60224.25      , 60226.25      , 30., 'u', 0., 0., 0., 0., 1, 'DD:XMM_LSS', 0.01041667, 0.05235988, 0.43633231, 1.48352986, 3., 21., False,     2),\n",
       "       ...,\n",
       "       (0, 0.62322798, -0.08290314, 63867.28124915, 63869.28124915, 30., 'y', 0., 0., 0., 0., 2, 'DD:XMM_LSS', 0.01041667, 0.05235988, 0.43633231, 1.48352986, 3., 21., False, 26829),\n",
       "       (0, 0.62322798, -0.08290314, 63867.28124915, 63869.28124915, 30., 'y', 0., 0., 0., 0., 2, 'DD:XMM_LSS', 0.01041667, 0.05235988, 0.43633231, 1.48352986, 3., 21., False, 26830),\n",
       "       (0, 0.62322798, -0.08290314, 63867.28124915, 63869.28124915, 30., 'y', 0., 0., 0., 0., 2, 'DD:XMM_LSS', 0.01041667, 0.05235988, 0.43633231, 1.48352986, 3., 21., False, 26831)],\n",
       "      dtype=[('ID', '<i8'), ('RA', '<f8'), ('dec', '<f8'), ('mjd', '<f8'), ('flush_by_mjd', '<f8'), ('exptime', '<f8'), ('filter', '<U1'), ('rotSkyPos', '<f8'), ('rotTelPos', '<f8'), ('rotTelPos_backup', '<f8'), ('rotSkyPos_desired', '<f8'), ('nexp', '<i8'), ('note', '<U40'), ('mjd_tol', '<f8'), ('dist_tol', '<f8'), ('alt_min', '<f8'), ('alt_max', '<f8'), ('HA_max', '<f8'), ('HA_min', '<f8'), ('observed', '?'), ('scripted_id', '<i8')])"
      ]
     },
     "execution_count": 7,
     "metadata": {},
     "output_type": "execute_result"
    }
   ],
   "source": [
    "gen1\n"
   ]
  },
  {
   "cell_type": "code",
   "execution_count": 8,
   "id": "d66eebe0",
   "metadata": {},
   "outputs": [
    {
     "data": {
      "text/plain": [
       "array([    0,     1,     2, ..., 26829, 26830, 26831])"
      ]
     },
     "execution_count": 8,
     "metadata": {},
     "output_type": "execute_result"
    }
   ],
   "source": [
    "gen1['scripted_id']"
   ]
  },
  {
   "cell_type": "code",
   "execution_count": null,
   "id": "c7a81ccb",
   "metadata": {},
   "outputs": [],
   "source": []
  }
 ],
 "metadata": {
  "kernelspec": {
   "display_name": "Python 3 (ipykernel)",
   "language": "python",
   "name": "python3"
  },
  "language_info": {
   "codemirror_mode": {
    "name": "ipython",
    "version": 3
   },
   "file_extension": ".py",
   "mimetype": "text/x-python",
   "name": "python",
   "nbconvert_exporter": "python",
   "pygments_lexer": "ipython3",
   "version": "3.8.13"
  }
 },
 "nbformat": 4,
 "nbformat_minor": 5
}
