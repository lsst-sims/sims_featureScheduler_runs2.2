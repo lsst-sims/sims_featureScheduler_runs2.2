{
 "cells": [
  {
   "cell_type": "code",
   "execution_count": 1,
   "id": "c954a0ad",
   "metadata": {},
   "outputs": [],
   "source": [
    "import numpy as np\n",
    "import pandas as pd\n",
    "import sqlite3\n",
    "import glob"
   ]
  },
  {
   "cell_type": "code",
   "execution_count": 2,
   "id": "7c279d8e",
   "metadata": {},
   "outputs": [],
   "source": [
    "dbfiles = glob.glob('*10yrs.db')\n"
   ]
  },
  {
   "cell_type": "code",
   "execution_count": 3,
   "id": "93b2df81",
   "metadata": {},
   "outputs": [],
   "source": [
    "\n",
    "q = 'select count(night) from observations where note like \"DD%\";'\n",
    "q2 = 'select count(night) from observations;'\n",
    "\n",
    "result = []\n",
    "\n",
    "for dbfile in dbfiles:\n",
    "    con = sqlite3.connect(dbfile)\n",
    "    r1 = pd.read_sql(q, con)\n",
    "    r2 = pd.read_sql(q2, con)\n",
    "    con.close()\n",
    "    result.append( (np.max(r1.values),np.max(r2.values),dbfile) )"
   ]
  },
  {
   "cell_type": "code",
   "execution_count": 4,
   "id": "6017e102",
   "metadata": {},
   "outputs": [
    {
     "data": {
      "text/plain": [
       "[(122311, 2077678, 'ddf_frac_sl300_v2.2_10yrs.db'),\n",
       " (97407, 2077769, 'ddf_frac_sl243_v2.2_10yrs.db'),\n",
       " (103541, 2077660, 'ddf_frac_sl257_v2.2_10yrs.db'),\n",
       " (92679, 2078224, 'ddf_frac_sl229_v2.2_10yrs.db'),\n",
       " (113129, 2078065, 'ddf_frac_sl286_v2.2_10yrs.db'),\n",
       " (109718, 2078135, 'ddf_frac_sl272_v2.2_10yrs.db')]"
      ]
     },
     "execution_count": 4,
     "metadata": {},
     "output_type": "execute_result"
    }
   ],
   "source": [
    "result"
   ]
  },
  {
   "cell_type": "code",
   "execution_count": 5,
   "id": "cd5e1e34",
   "metadata": {},
   "outputs": [
    {
     "data": {
      "text/plain": [
       "array([[109718]])"
      ]
     },
     "execution_count": 5,
     "metadata": {},
     "output_type": "execute_result"
    }
   ],
   "source": [
    "r1.values"
   ]
  },
  {
   "cell_type": "code",
   "execution_count": 6,
   "id": "7570d63a",
   "metadata": {},
   "outputs": [
    {
     "data": {
      "text/html": [
       "<div>\n",
       "<style scoped>\n",
       "    .dataframe tbody tr th:only-of-type {\n",
       "        vertical-align: middle;\n",
       "    }\n",
       "\n",
       "    .dataframe tbody tr th {\n",
       "        vertical-align: top;\n",
       "    }\n",
       "\n",
       "    .dataframe thead th {\n",
       "        text-align: right;\n",
       "    }\n",
       "</style>\n",
       "<table border=\"1\" class=\"dataframe\">\n",
       "  <thead>\n",
       "    <tr style=\"text-align: right;\">\n",
       "      <th></th>\n",
       "      <th>count(night)</th>\n",
       "    </tr>\n",
       "  </thead>\n",
       "  <tbody>\n",
       "    <tr>\n",
       "      <th>0</th>\n",
       "      <td>2078135</td>\n",
       "    </tr>\n",
       "  </tbody>\n",
       "</table>\n",
       "</div>"
      ],
      "text/plain": [
       "   count(night)\n",
       "0       2078135"
      ]
     },
     "execution_count": 6,
     "metadata": {},
     "output_type": "execute_result"
    }
   ],
   "source": [
    "r2"
   ]
  },
  {
   "cell_type": "code",
   "execution_count": 7,
   "id": "8218ccf2",
   "metadata": {},
   "outputs": [],
   "source": [
    "res = pd.DataFrame(result)"
   ]
  },
  {
   "cell_type": "code",
   "execution_count": 8,
   "id": "cec81a32",
   "metadata": {},
   "outputs": [
    {
     "data": {
      "text/html": [
       "<div>\n",
       "<style scoped>\n",
       "    .dataframe tbody tr th:only-of-type {\n",
       "        vertical-align: middle;\n",
       "    }\n",
       "\n",
       "    .dataframe tbody tr th {\n",
       "        vertical-align: top;\n",
       "    }\n",
       "\n",
       "    .dataframe thead th {\n",
       "        text-align: right;\n",
       "    }\n",
       "</style>\n",
       "<table border=\"1\" class=\"dataframe\">\n",
       "  <thead>\n",
       "    <tr style=\"text-align: right;\">\n",
       "      <th></th>\n",
       "      <th>0</th>\n",
       "      <th>1</th>\n",
       "      <th>2</th>\n",
       "    </tr>\n",
       "  </thead>\n",
       "  <tbody>\n",
       "    <tr>\n",
       "      <th>0</th>\n",
       "      <td>122311</td>\n",
       "      <td>2077678</td>\n",
       "      <td>ddf_frac_sl300_v2.2_10yrs.db</td>\n",
       "    </tr>\n",
       "    <tr>\n",
       "      <th>1</th>\n",
       "      <td>97407</td>\n",
       "      <td>2077769</td>\n",
       "      <td>ddf_frac_sl243_v2.2_10yrs.db</td>\n",
       "    </tr>\n",
       "    <tr>\n",
       "      <th>2</th>\n",
       "      <td>103541</td>\n",
       "      <td>2077660</td>\n",
       "      <td>ddf_frac_sl257_v2.2_10yrs.db</td>\n",
       "    </tr>\n",
       "    <tr>\n",
       "      <th>3</th>\n",
       "      <td>92679</td>\n",
       "      <td>2078224</td>\n",
       "      <td>ddf_frac_sl229_v2.2_10yrs.db</td>\n",
       "    </tr>\n",
       "    <tr>\n",
       "      <th>4</th>\n",
       "      <td>113129</td>\n",
       "      <td>2078065</td>\n",
       "      <td>ddf_frac_sl286_v2.2_10yrs.db</td>\n",
       "    </tr>\n",
       "    <tr>\n",
       "      <th>5</th>\n",
       "      <td>109718</td>\n",
       "      <td>2078135</td>\n",
       "      <td>ddf_frac_sl272_v2.2_10yrs.db</td>\n",
       "    </tr>\n",
       "  </tbody>\n",
       "</table>\n",
       "</div>"
      ],
      "text/plain": [
       "        0        1                             2\n",
       "0  122311  2077678  ddf_frac_sl300_v2.2_10yrs.db\n",
       "1   97407  2077769  ddf_frac_sl243_v2.2_10yrs.db\n",
       "2  103541  2077660  ddf_frac_sl257_v2.2_10yrs.db\n",
       "3   92679  2078224  ddf_frac_sl229_v2.2_10yrs.db\n",
       "4  113129  2078065  ddf_frac_sl286_v2.2_10yrs.db\n",
       "5  109718  2078135  ddf_frac_sl272_v2.2_10yrs.db"
      ]
     },
     "execution_count": 8,
     "metadata": {},
     "output_type": "execute_result"
    }
   ],
   "source": [
    "res"
   ]
  },
  {
   "cell_type": "code",
   "execution_count": 9,
   "id": "f604885e",
   "metadata": {},
   "outputs": [
    {
     "data": {
      "text/plain": [
       "0    0.058869\n",
       "1    0.046881\n",
       "2    0.049835\n",
       "3    0.044595\n",
       "4    0.054440\n",
       "5    0.052796\n",
       "dtype: float64"
      ]
     },
     "execution_count": 9,
     "metadata": {},
     "output_type": "execute_result"
    }
   ],
   "source": [
    "res[0]/res[1]"
   ]
  },
  {
   "cell_type": "code",
   "execution_count": 12,
   "id": "cfe6afed",
   "metadata": {},
   "outputs": [],
   "source": [
    "slope = (.052796-0.049835)/(272-257)"
   ]
  },
  {
   "cell_type": "code",
   "execution_count": 13,
   "id": "5dd0455b",
   "metadata": {},
   "outputs": [
    {
     "data": {
      "text/plain": [
       "0.00019740000000000035"
      ]
     },
     "execution_count": 13,
     "metadata": {},
     "output_type": "execute_result"
    }
   ],
   "source": [
    "slope"
   ]
  },
  {
   "cell_type": "code",
   "execution_count": 15,
   "id": "dcb2f980",
   "metadata": {},
   "outputs": [
    {
     "data": {
      "text/plain": [
       "0.8358662613982023"
      ]
     },
     "execution_count": 15,
     "metadata": {},
     "output_type": "execute_result"
    }
   ],
   "source": [
    "(0.05-0.049835)/slope"
   ]
  },
  {
   "cell_type": "code",
   "execution_count": null,
   "id": "53442a47",
   "metadata": {},
   "outputs": [],
   "source": [
    "# looks like setting to 258 should hit it on the dot."
   ]
  }
 ],
 "metadata": {
  "kernelspec": {
   "display_name": "Python 3 (ipykernel)",
   "language": "python",
   "name": "python3"
  },
  "language_info": {
   "codemirror_mode": {
    "name": "ipython",
    "version": 3
   },
   "file_extension": ".py",
   "mimetype": "text/x-python",
   "name": "python",
   "nbconvert_exporter": "python",
   "pygments_lexer": "ipython3",
   "version": "3.8.13"
  }
 },
 "nbformat": 4,
 "nbformat_minor": 5
}
