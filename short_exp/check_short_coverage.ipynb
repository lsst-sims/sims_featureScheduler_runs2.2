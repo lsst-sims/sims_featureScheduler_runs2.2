{
 "cells": [
  {
   "cell_type": "code",
   "execution_count": 1,
   "id": "1cb8ebf7",
   "metadata": {},
   "outputs": [],
   "source": [
    "# Let's see how many short exposure observations we have over the sky"
   ]
  },
  {
   "cell_type": "code",
   "execution_count": 2,
   "id": "a5353e5b",
   "metadata": {},
   "outputs": [],
   "source": [
    "import numpy as np\n",
    "import matplotlib.pylab as plt\n",
    "%matplotlib inline\n",
    "import rubin_sim.maf.metrics as metrics\n",
    "import rubin_sim.maf.slicers as slicers\n",
    "import rubin_sim.maf.stackers as stackers\n",
    "import rubin_sim.maf.plots as plots\n",
    "import rubin_sim.maf.metricBundles as metricBundles\n",
    "import rubin_sim.maf.db as db"
   ]
  },
  {
   "cell_type": "code",
   "execution_count": 3,
   "id": "37637745",
   "metadata": {},
   "outputs": [],
   "source": [
    "filename = 'short_exp_v2.2_10yrs.db'\n",
    "outDir='temp'\n",
    "resultsDb = db.ResultsDb(outDir=outDir)"
   ]
  },
  {
   "cell_type": "code",
   "execution_count": 4,
   "id": "2cec9684",
   "metadata": {},
   "outputs": [
    {
     "name": "stdout",
     "output_type": "stream",
     "text": [
      "Healpix slicer using NSIDE=128, approximate resolution 27.483891 arcminutes\n"
     ]
    }
   ],
   "source": [
    "bundleList = []\n",
    "\n",
    "filternames = 'ugrizy'\n",
    "metric = metrics.CountMetric(col='night')\n",
    "slicer = slicers.HealpixSlicer()\n",
    "\n",
    "plotDict = {}\n",
    "for filtername in filternames:\n",
    "    sql = \"filter='%s' and visitExposuretime < 10\" % filtername\n",
    "    bundle = metricBundles.MetricBundle(metric, slicer, sql,\n",
    "                                        plotDict=plotDict)\n",
    "    bundleList.append(bundle)"
   ]
  },
  {
   "cell_type": "code",
   "execution_count": 5,
   "id": "8ee11b6e",
   "metadata": {},
   "outputs": [
    {
     "name": "stdout",
     "output_type": "stream",
     "text": [
      "Querying table None with constraint filter='u' and visitExposuretime < 10 for columns ['rotSkyPos', 'fieldDec', 'fieldRA', 'night']\n",
      "Found 7407 visits\n",
      "Running:  ['opsim_Count_night_u_and_visitExposuretime_lt_10_HEAL']\n",
      "Completed metric generation.\n",
      "Running reduce methods.\n",
      "Running summary statistics.\n",
      "Completed.\n",
      "Querying table None with constraint filter='r' and visitExposuretime < 10 for columns ['rotSkyPos', 'fieldDec', 'fieldRA', 'night']\n",
      "Found 10074 visits\n",
      "Running:  ['opsim_Count_night_r_and_visitExposuretime_lt_10_HEAL']\n",
      "Completed metric generation.\n",
      "Running reduce methods.\n",
      "Running summary statistics.\n",
      "Completed.\n",
      "Querying table None with constraint filter='y' and visitExposuretime < 10 for columns ['rotSkyPos', 'fieldDec', 'fieldRA', 'night']\n",
      "Found 9862 visits\n",
      "Running:  ['opsim_Count_night_y_and_visitExposuretime_lt_10_HEAL']\n",
      "Completed metric generation.\n",
      "Running reduce methods.\n",
      "Running summary statistics.\n",
      "Completed.\n",
      "Querying table None with constraint filter='g' and visitExposuretime < 10 for columns ['rotSkyPos', 'fieldDec', 'fieldRA', 'night']\n",
      "Found 9331 visits\n",
      "Running:  ['opsim_Count_night_g_and_visitExposuretime_lt_10_HEAL']\n",
      "Completed metric generation.\n",
      "Running reduce methods.\n",
      "Running summary statistics.\n",
      "Completed.\n",
      "Querying table None with constraint filter='i' and visitExposuretime < 10 for columns ['rotSkyPos', 'fieldDec', 'fieldRA', 'night']\n",
      "Found 10181 visits\n",
      "Running:  ['opsim_Count_night_i_and_visitExposuretime_lt_10_HEAL']\n",
      "Completed metric generation.\n",
      "Running reduce methods.\n",
      "Running summary statistics.\n",
      "Completed.\n",
      "Querying table None with constraint filter='z' and visitExposuretime < 10 for columns ['rotSkyPos', 'fieldDec', 'fieldRA', 'night']\n",
      "Found 9456 visits\n",
      "Running:  ['opsim_Count_night_z_and_visitExposuretime_lt_10_HEAL']\n",
      "Completed metric generation.\n",
      "Running reduce methods.\n",
      "Running summary statistics.\n",
      "Completed.\n"
     ]
    }
   ],
   "source": [
    "bd = metricBundles.makeBundlesDictFromList(bundleList)\n",
    "bg = metricBundles.MetricBundleGroup(bd, filename, outDir=outDir, resultsDb=resultsDb)\n",
    "bg.runAll()"
   ]
  },
  {
   "cell_type": "code",
   "execution_count": null,
   "id": "09429c2d",
   "metadata": {},
   "outputs": [
    {
     "name": "stdout",
     "output_type": "stream",
     "text": [
      "Plotting figures with \"filter='u' and visitExposuretime < 10\" constraint now.\n"
     ]
    },
    {
     "name": "stderr",
     "output_type": "stream",
     "text": [
      "0.0 180.0 -180.0 180.0\n",
      "0.0 180.0 -180.0 180.0\n"
     ]
    },
    {
     "name": "stdout",
     "output_type": "stream",
     "text": [
      "Plotting complete.\n",
      "Plotting figures with \"filter='r' and visitExposuretime < 10\" constraint now.\n"
     ]
    },
    {
     "name": "stderr",
     "output_type": "stream",
     "text": [
      "/Users/yoachim/git_repos/rubin_sim/rubin_sim/maf/utils/mafUtils.py:141: UserWarning: Optimal bin calculation tried to make 203 bins, returning 200\n",
      "  warnings.warn(\n",
      "0.0 180.0 -180.0 180.0\n"
     ]
    },
    {
     "name": "stdout",
     "output_type": "stream",
     "text": [
      "Plotting complete.\n",
      "Plotting figures with \"filter='y' and visitExposuretime < 10\" constraint now.\n"
     ]
    },
    {
     "name": "stderr",
     "output_type": "stream",
     "text": [
      "0.0 180.0 -180.0 180.0\n"
     ]
    },
    {
     "name": "stdout",
     "output_type": "stream",
     "text": [
      "Plotting complete.\n",
      "Plotting figures with \"filter='g' and visitExposuretime < 10\" constraint now.\n"
     ]
    },
    {
     "name": "stderr",
     "output_type": "stream",
     "text": [
      "0.0 180.0 -180.0 180.0\n"
     ]
    },
    {
     "name": "stdout",
     "output_type": "stream",
     "text": [
      "Plotting complete.\n",
      "Plotting figures with \"filter='i' and visitExposuretime < 10\" constraint now.\n"
     ]
    }
   ],
   "source": [
    "bg.plotAll(closefigs=False)"
   ]
  },
  {
   "cell_type": "code",
   "execution_count": null,
   "id": "acf7acf1",
   "metadata": {},
   "outputs": [],
   "source": []
  }
 ],
 "metadata": {
  "kernelspec": {
   "display_name": "Python 3 (ipykernel)",
   "language": "python",
   "name": "python3"
  },
  "language_info": {
   "codemirror_mode": {
    "name": "ipython",
    "version": 3
   },
   "file_extension": ".py",
   "mimetype": "text/x-python",
   "name": "python",
   "nbconvert_exporter": "python",
   "pygments_lexer": "ipython3",
   "version": "3.8.13"
  }
 },
 "nbformat": 4,
 "nbformat_minor": 5
}
